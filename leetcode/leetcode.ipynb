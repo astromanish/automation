{
 "cells": [
  {
   "cell_type": "markdown",
   "metadata": {},
   "source": [
    "1. Question Number\n",
    "2. Question Name\n",
    "3. C++ Solution\n",
    "4. Python Solution\n",
    "5. Accepatance\n",
    "6. Company\n",
    "7. Level\n"
   ]
  },
  {
   "cell_type": "code",
   "execution_count": null,
   "metadata": {},
   "outputs": [],
   "source": [
    "import pandas as pd\n",
    "import re\n",
    "\n",
    "# Read the Markdown file\n",
    "with open(\"./tag_premium.md\", \"r\", encoding=\"utf-8\") as file:\n",
    "    markdown_content = file.read()\n",
    "\n",
    "# Split the Markdown content into sections\n",
    "sections = re.split(r\"##\\s+\", markdown_content)\n",
    "\n",
    "# Initialize empty lists for each column\n",
    "table_data = {\n",
    "    \"Section\": [],\n",
    "    \"Question No.\": [],\n",
    "    \"Time Complexity\": [],\n",
    "    \"Space Complexity\": [],\n",
    "    \"Premium\": [],\n",
    "    \"Tags\": [],\n",
    "    \"Notes\": [],  # Added a new column for 'Notes'\n",
    "}\n",
    "\n",
    "# Define the content to be excluded\n",
    "exclude_content = [\n",
    "    \"\",\n",
    "    \"-----\",\n",
    "    \"---------------- \",\n",
    "    \" --------------- \",\n",
    "    \" --------------- \",\n",
    "    \" --------------- \",\n",
    "    \" ------------- \",\n",
    "    \"--------------\",\n",
    "    \"-----\",\n",
    "    \"\",\n",
    "]\n",
    "\n",
    "\n",
    "# Function to extract notes from 'Premium' column\n",
    "def extract_notes(premium_str):\n",
    "    # Use a regular expression to find the additional data within square brackets\n",
    "    match = re.search(r\"\\[(.*?)\\]\", premium_str)\n",
    "    if match:\n",
    "        return match.group(1)\n",
    "    return \"\"\n",
    "\n",
    "\n",
    "# Function to remove the extracted notes from 'Premium' column\n",
    "def remove_notes(premium_str):\n",
    "    # Use a regular expression to remove the additional data within square brackets\n",
    "    return re.sub(r\"\\[.*?\\]\", \"\", premium_str)\n",
    "\n",
    "\n",
    "# Function to remove underscores from complexity strings\n",
    "def remove_underscores(complexity_str):\n",
    "    return complexity_str.replace(\"_\", \"\")\n",
    "\n",
    "\n",
    "# Iterate through sections\n",
    "for section in sections[1:]:  # Skip the first empty section\n",
    "    section_lines = section.strip().split(\"\\n\")\n",
    "    section_name = section_lines[0].strip()\n",
    "\n",
    "    # Find and parse the table in the section\n",
    "    table = section_lines[2:]  # Adjusted the index to start from the correct row\n",
    "    for row in table:\n",
    "        columns = row.split(\"|\")\n",
    "\n",
    "        # Check if the row contains any of the excluded content\n",
    "        if columns != exclude_content:\n",
    "            if len(columns) >= 6:  # Adjusted the length check to handle varying columns\n",
    "                table_data[\"Section\"].append(section_name)\n",
    "                table_data[\"Question No.\"].append(columns[0].strip())\n",
    "                time_complexity = (\n",
    "                    remove_underscores(columns[3].strip()) if len(columns) > 3 else \"\"\n",
    "                )\n",
    "                space_complexity = (\n",
    "                    remove_underscores(columns[4].strip()) if len(columns) > 4 else \"\"\n",
    "                )\n",
    "                premium = columns[6].strip() if len(columns) > 6 else \"\"\n",
    "\n",
    "                # Check if 'Premium' is not 🔒 (replace '🔒' with your actual lock character)\n",
    "                if \"🔒\" not in premium:\n",
    "                    notes = premium\n",
    "                    premium = \"\"\n",
    "                else:\n",
    "                    notes = extract_notes(premium)\n",
    "\n",
    "                table_data[\"Time Complexity\"].append(time_complexity)\n",
    "                table_data[\"Space Complexity\"].append(space_complexity)\n",
    "                table_data[\"Premium\"].append(premium)\n",
    "                table_data[\"Tags\"].append(\n",
    "                    columns[7].strip() if len(columns) > 7 else \"\"\n",
    "                )\n",
    "                table_data[\"Notes\"].append(notes)\n",
    "\n",
    "# Create a DataFrame from the extracted data\n",
    "df = pd.DataFrame(table_data)"
   ]
  },
  {
   "cell_type": "code",
   "execution_count": null,
   "metadata": {},
   "outputs": [],
   "source": [
    "# Write the DataFrame to a CSV file\n",
    "df.to_csv(\"output.csv\", index=False)"
   ]
  },
  {
   "cell_type": "code",
   "execution_count": null,
   "metadata": {},
   "outputs": [],
   "source": [
    "import pandas as pd\n",
    "\n",
    "# Load the main CSV file (\"leetcode.csv\")\n",
    "main_df = pd.read_csv(\"leetcode.csv\")\n",
    "\n",
    "# Load the tags and difficulty CSV file (\"tags_difficulty.csv\")\n",
    "tags_difficulty_df = pd.read_csv(\"tag_difficulty.csv\")\n",
    "\n",
    "# Load the acceptance CSV file (\"acceptance.csv\")\n",
    "acceptance_df = pd.read_csv(\"acceptance.csv\")\n",
    "\n",
    "# Load the basic idea CSV file (\"basic_idea.csv\")\n",
    "basic_idea_df = pd.read_csv(\"basic_idea.csv\")\n",
    "\n",
    "op_df = pd.read_csv(\"output.csv\")\n"
   ]
  },
  {
   "cell_type": "code",
   "execution_count": null,
   "metadata": {},
   "outputs": [],
   "source": [
    "main_df.drop([\"Tags\", \"Date\", \"Level\"], inplace=True, axis=1)"
   ]
  },
  {
   "cell_type": "code",
   "execution_count": null,
   "metadata": {},
   "outputs": [],
   "source": [
    "# Merge the data from \"tags_difficulty.csv\" into the main DataFrame based on the \"Name\" column\n",
    "main_df = main_df.merge(tags_difficulty_df[[\"Name\", \"Tags\"]], on=\"Name\", how=\"left\")\n",
    "\n",
    "# Merge the data from \"acceptance.csv\" into the main DataFrame based on the \"Name\" column\n",
    "main_df = main_df.merge(\n",
    "    acceptance_df[[\"Name\", \"Acceptance\", \"Difficulty\"]], on=\"Name\", how=\"left\"\n",
    ")\n",
    "\n",
    "# Merge the data from \"acceptance.csv\" into the main DataFrame based on the \"Name\" column\n",
    "main_df = main_df.merge(basic_idea_df[[\"Name\", \"Basic Idea\"]], on=\"Name\", how=\"left\")\n"
   ]
  },
  {
   "cell_type": "code",
   "execution_count": null,
   "metadata": {},
   "outputs": [],
   "source": [
    "op_df.columns\n",
    "# main_df.columns"
   ]
  },
  {
   "cell_type": "code",
   "execution_count": null,
   "metadata": {},
   "outputs": [],
   "source": [
    "# Merge the data from \"acceptance.csv\" into the main DataFrame based on the \"Name\" column\n",
    "main_df = main_df.merge(op_df[[\"Question No.\", \"Section\", \"Time Complexity\", \"Space Complexity\", \"Premium\", \"Tags\", \"Notes\"]], on=\"Question No.\", how=\"left\")"
   ]
  },
  {
   "cell_type": "code",
   "execution_count": null,
   "metadata": {},
   "outputs": [],
   "source": [
    "# Save the updated main DataFrame to a new CSV file (\"updated_leetcode.csv\")\n",
    "main_df.to_csv(\"updated_leetcode.csv\", index=False)\n",
    "\n",
    "print(\"Data has been updated and saved to 'updated_leetcode.csv'.\")"
   ]
  },
  {
   "cell_type": "code",
   "execution_count": null,
   "metadata": {},
   "outputs": [],
   "source": [
    "main_df.shape"
   ]
  },
  {
   "cell_type": "code",
   "execution_count": null,
   "metadata": {},
   "outputs": [],
   "source": [
    "main_df.notnull().sum()"
   ]
  },
  {
   "cell_type": "code",
   "execution_count": null,
   "metadata": {},
   "outputs": [],
   "source": [
    "main_df = main_df.loc[main_df.Tags.notnull()]"
   ]
  },
  {
   "cell_type": "code",
   "execution_count": null,
   "metadata": {},
   "outputs": [],
   "source": [
    "main_df[\"\"].isnull().sum()"
   ]
  },
  {
   "cell_type": "code",
   "execution_count": null,
   "metadata": {},
   "outputs": [],
   "source": [
    "import pandas as pd\n",
    "df = pd.read_csv('./DSA Problems 5c94910075154739b283a31e1b5d7803_all.csv')\n",
    "df.head()"
   ]
  },
  {
   "cell_type": "code",
   "execution_count": null,
   "metadata": {},
   "outputs": [],
   "source": [
    "df.columns"
   ]
  },
  {
   "cell_type": "code",
   "execution_count": null,
   "metadata": {},
   "outputs": [],
   "source": [
    "# Function to add category values to tags column\n",
    "def add_category_to_tags(row):\n",
    "    if pd.isna(row['Tags']):\n",
    "        return str(row['Category'])\n",
    "    elif pd.isna(row['Category']):\n",
    "        return str(row['Tags'])\n",
    "    elif str(row['Category']) not in str(row['Tags']):\n",
    "        return str(row['Tags']) + ', ' + str(row['Category'])\n",
    "    else:\n",
    "        return str(row['Tags'])\n",
    "\n",
    "# Apply the function to the DataFrame\n",
    "df['Tags'] = df.apply(add_category_to_tags, axis=1)\n",
    "\n"
   ]
  },
  {
   "cell_type": "code",
   "execution_count": null,
   "metadata": {},
   "outputs": [],
   "source": [
    "df.loc[df.Category.notna() & df.Tags.notna()]"
   ]
  },
  {
   "cell_type": "markdown",
   "metadata": {},
   "source": []
  },
  {
   "cell_type": "code",
   "execution_count": 10,
   "metadata": {},
   "outputs": [
    {
     "name": "stdout",
     "output_type": "stream",
     "text": [
      "Data has been updated and saved to 'updated_leetcode.csv'.\n"
     ]
    }
   ],
   "source": [
    "# Save the updated main DataFrame to a new CSV file (\"updated_leetcode.csv\")\n",
    "df.to_csv(\"updated_leetcode.csv\", index=False)\n",
    "\n",
    "print(\"Data has been updated and saved to 'updated_leetcode.csv'.\")"
   ]
  }
 ],
 "metadata": {
  "kernelspec": {
   "display_name": ".venv",
   "language": "python",
   "name": "python3"
  },
  "language_info": {
   "codemirror_mode": {
    "name": "ipython",
    "version": 3
   },
   "file_extension": ".py",
   "mimetype": "text/x-python",
   "name": "python",
   "nbconvert_exporter": "python",
   "pygments_lexer": "ipython3",
   "version": "3.11.4"
  },
  "orig_nbformat": 4
 },
 "nbformat": 4,
 "nbformat_minor": 2
}
