{
 "cells": [
  {
   "cell_type": "code",
   "execution_count": null,
   "metadata": {},
   "outputs": [],
   "source": [
    "# packages\n",
    "import os\n",
    "from notion_client import Client\n",
    "from pprint import pprint"
   ]
  },
  {
   "cell_type": "code",
   "execution_count": null,
   "metadata": {},
   "outputs": [],
   "source": [
    "# get core notion object\n",
    "from notion_client import Client, AsyncClient\n",
    "\n",
    "notion = Client(auth=\"secret_BJv6viw4VSv7zwNiebE9xgsn5NGUcQGQtXwok3dZ7Md\")"
   ]
  },
  {
   "cell_type": "code",
   "execution_count": null,
   "metadata": {},
   "outputs": [],
   "source": [
    "list_users_response = notion.users.list()\n",
    "notion_db = notion.databases.query('b4d5aff4c5954c19875e0461ec08ae43')\n",
    "page = notion.pages.retrieve('7e9803b361c24383a0106be6d370d6f3')\n",
    "https://www.notion.so/10001001/c82560dbc0de40659a1c5ca5bef68e55?v=f9092012fd8345c68ee7da1f61fe8cd0&pvs=4\n",
    "https://www.notion.so/10001001/c82560dbc0de40659a1c5ca5bef68e55?v=f9092012fd8345c68ee7da1f61fe8cd0&pvs=4\n",
    "https://www.notion.so/10001001/c82560dbc0de40659a1c5ca5bef68e55?v=f9092012fd8345c68ee7da1f61fe8cd0&pvs=4"
   ]
  },
  {
   "cell_type": "code",
   "execution_count": 16,
   "metadata": {},
   "outputs": [],
   "source": [
    "import os\n",
    "import re\n",
    "import urllib.parse\n",
    "import csv\n",
    "\n",
    "\n",
    "# Function to extract question number and name from directory name\n",
    "def extract_question_info(dir_name):\n",
    "    match = re.match(r\"(\\d+)\\.\\s+(.*)\", dir_name)\n",
    "    if match:\n",
    "        question_no = match.group(1)\n",
    "        question_name = match.group(2)\n",
    "        return question_no, question_name\n",
    "    return None, None\n",
    "\n",
    "\n",
    "# Function to find solution files in a directory\n",
    "def find_solution_files(directory):\n",
    "    cpp_file = None\n",
    "    python_file = None\n",
    "    for file_name in os.listdir(directory):\n",
    "        if file_name.endswith(\".cpp\"):\n",
    "            cpp_file = file_name\n",
    "        elif file_name.endswith(\".py\"):\n",
    "            python_file = file_name\n",
    "    return cpp_file, python_file\n",
    "\n",
    "\n",
    "# Main function to generate the table\n",
    "def generate_table(root_directory, github_repo_url):\n",
    "    table = []\n",
    "    for dir_name, _, files in os.walk(root_directory):\n",
    "        folder_name = os.path.basename(dir_name)\n",
    "        question_no, question_name = extract_question_info(folder_name)\n",
    "        if question_no and question_name:\n",
    "            cpp_file, python_file = find_solution_files(dir_name)\n",
    "            cpp_solution_link = (\n",
    "                f\"{github_repo_url}/{urllib.parse.quote(folder_name)}/{question_no}.cpp\"\n",
    "                if cpp_file\n",
    "                else \"\"\n",
    "            )\n",
    "            python_solution_link = (\n",
    "                f\"{github_repo_url}/{urllib.parse.quote(folder_name)}/{question_no}.py\"\n",
    "                if python_file\n",
    "                else \"\"\n",
    "            )\n",
    "            row = {\n",
    "                \"Question No.\": question_no,\n",
    "                \"Question Name\": question_name,\n",
    "                \"Problem Link\": f\"https://leetcode.com/problems/{question_name.lower().replace(' ', '-')}/\",\n",
    "                \"C++ Solution Link\": cpp_solution_link,\n",
    "                \"Python Solution Link\": python_solution_link,\n",
    "            }\n",
    "            table.append(row)\n",
    "    return table\n",
    "\n",
    "\n",
    "# Specify the root directory where the problem directories are located\n",
    "root_directory = \"./final_solution\"\n",
    "github_repo_url = \"https://github.com/astromanish/CP/blob/master/final_solution\"\n",
    "\n",
    "# Generate the table\n",
    "table = generate_table(root_directory, github_repo_url)\n",
    "\n",
    "# Convert the table to CSV format\n",
    "csv_filename = \"table.csv\"\n",
    "with open(csv_filename, mode=\"w\", newline=\"\") as csv_file:\n",
    "    writer = csv.DictWriter(csv_file, fieldnames=table[0].keys())\n",
    "    writer.writeheader()\n",
    "    writer.writerows(table)"
   ]
  },
  {
   "cell_type": "code",
   "execution_count": 14,
   "metadata": {},
   "outputs": [
    {
     "ename": "HTTPResponseError",
     "evalue": "Request to Notion API failed with status: 413",
     "output_type": "error",
     "traceback": [
      "\u001b[0;31m---------------------------------------------------------------------------\u001b[0m",
      "\u001b[0;31mHTTPStatusError\u001b[0m                           Traceback (most recent call last)",
      "File \u001b[0;32m~/projects/ml/.venv/lib/python3.11/site-packages/notion_client/client.py:118\u001b[0m, in \u001b[0;36mBaseClient._parse_response\u001b[0;34m(self, response)\u001b[0m\n\u001b[1;32m    117\u001b[0m \u001b[39mtry\u001b[39;00m:\n\u001b[0;32m--> 118\u001b[0m     response\u001b[39m.\u001b[39;49mraise_for_status()\n\u001b[1;32m    119\u001b[0m \u001b[39mexcept\u001b[39;00m httpx\u001b[39m.\u001b[39mHTTPStatusError \u001b[39mas\u001b[39;00m error:\n",
      "File \u001b[0;32m~/projects/ml/.venv/lib/python3.11/site-packages/httpx/_models.py:749\u001b[0m, in \u001b[0;36mResponse.raise_for_status\u001b[0;34m(self)\u001b[0m\n\u001b[1;32m    748\u001b[0m message \u001b[39m=\u001b[39m message\u001b[39m.\u001b[39mformat(\u001b[39mself\u001b[39m, error_type\u001b[39m=\u001b[39merror_type)\n\u001b[0;32m--> 749\u001b[0m \u001b[39mraise\u001b[39;00m HTTPStatusError(message, request\u001b[39m=\u001b[39mrequest, response\u001b[39m=\u001b[39m\u001b[39mself\u001b[39m)\n",
      "\u001b[0;31mHTTPStatusError\u001b[0m: Client error '413 Payload Too Large' for url 'https://api.notion.com/v1/pages'\nFor more information check: https://httpstatuses.com/413",
      "\nDuring handling of the above exception, another exception occurred:\n",
      "\u001b[0;31mHTTPResponseError\u001b[0m                         Traceback (most recent call last)",
      "Cell \u001b[0;32mIn[14], line 12\u001b[0m\n\u001b[1;32m      6\u001b[0m table_chunks \u001b[39m=\u001b[39m [\n\u001b[1;32m      7\u001b[0m     table_markdown[i : i \u001b[39m+\u001b[39m chunk_size]\n\u001b[1;32m      8\u001b[0m     \u001b[39mfor\u001b[39;00m i \u001b[39min\u001b[39;00m \u001b[39mrange\u001b[39m(\u001b[39m0\u001b[39m, \u001b[39mlen\u001b[39m(table_markdown), chunk_size)\n\u001b[1;32m      9\u001b[0m ]\n\u001b[1;32m     11\u001b[0m \u001b[39m# Create a new page in the Notion database\u001b[39;00m\n\u001b[0;32m---> 12\u001b[0m new_page \u001b[39m=\u001b[39m notion\u001b[39m.\u001b[39;49mpages\u001b[39m.\u001b[39;49mcreate(\n\u001b[1;32m     13\u001b[0m     parent\u001b[39m=\u001b[39;49m{\u001b[39m\"\u001b[39;49m\u001b[39mdatabase_id\u001b[39;49m\u001b[39m\"\u001b[39;49m: notion_database_id},\n\u001b[1;32m     14\u001b[0m     properties\u001b[39m=\u001b[39;49m{\n\u001b[1;32m     15\u001b[0m         \u001b[39m\"\u001b[39;49m\u001b[39mtitle\u001b[39;49m\u001b[39m\"\u001b[39;49m: [{\u001b[39m\"\u001b[39;49m\u001b[39mtext\u001b[39;49m\u001b[39m\"\u001b[39;49m: {\u001b[39m\"\u001b[39;49m\u001b[39mcontent\u001b[39;49m\u001b[39m\"\u001b[39;49m: \u001b[39m\"\u001b[39;49m\u001b[39mLeetCode Solutions\u001b[39;49m\u001b[39m\"\u001b[39;49m}}],\n\u001b[1;32m     16\u001b[0m         \u001b[39m\"\u001b[39;49m\u001b[39mcontent\u001b[39;49m\u001b[39m\"\u001b[39;49m: [{\u001b[39m\"\u001b[39;49m\u001b[39mtext\u001b[39;49m\u001b[39m\"\u001b[39;49m: {\u001b[39m\"\u001b[39;49m\u001b[39mcontent\u001b[39;49m\u001b[39m\"\u001b[39;49m: chunk}} \u001b[39mfor\u001b[39;49;00m chunk \u001b[39min\u001b[39;49;00m table_chunks],\n\u001b[1;32m     17\u001b[0m     },\n\u001b[1;32m     18\u001b[0m )\n\u001b[1;32m     20\u001b[0m \u001b[39m# Display a message to confirm the page creation\u001b[39;00m\n\u001b[1;32m     21\u001b[0m gui\u001b[39m.\u001b[39mmsgbox(\u001b[39m\"\u001b[39m\u001b[39mPage with table content has been added to Notion database\u001b[39m\u001b[39m\"\u001b[39m)\n",
      "File \u001b[0;32m~/projects/ml/.venv/lib/python3.11/site-packages/notion_client/api_endpoints.py:199\u001b[0m, in \u001b[0;36mPagesEndpoint.create\u001b[0;34m(self, **kwargs)\u001b[0m\n\u001b[1;32m    194\u001b[0m \u001b[39mdef\u001b[39;00m \u001b[39mcreate\u001b[39m(\u001b[39mself\u001b[39m, \u001b[39m*\u001b[39m\u001b[39m*\u001b[39mkwargs: Any) \u001b[39m-\u001b[39m\u001b[39m>\u001b[39m SyncAsync[Any]:\n\u001b[1;32m    195\u001b[0m \u001b[39m    \u001b[39m\u001b[39m\"\"\"Create a new page in the specified database or as a child of an existing page.\u001b[39;00m\n\u001b[1;32m    196\u001b[0m \n\u001b[1;32m    197\u001b[0m \u001b[39m    *[🔗 Endpoint documentation](https://developers.notion.com/reference/post-page)*\u001b[39;00m\n\u001b[1;32m    198\u001b[0m \u001b[39m    \"\"\"\u001b[39;00m  \u001b[39m# noqa: E501\u001b[39;00m\n\u001b[0;32m--> 199\u001b[0m     \u001b[39mreturn\u001b[39;00m \u001b[39mself\u001b[39;49m\u001b[39m.\u001b[39;49mparent\u001b[39m.\u001b[39;49mrequest(\n\u001b[1;32m    200\u001b[0m         path\u001b[39m=\u001b[39;49m\u001b[39m\"\u001b[39;49m\u001b[39mpages\u001b[39;49m\u001b[39m\"\u001b[39;49m,\n\u001b[1;32m    201\u001b[0m         method\u001b[39m=\u001b[39;49m\u001b[39m\"\u001b[39;49m\u001b[39mPOST\u001b[39;49m\u001b[39m\"\u001b[39;49m,\n\u001b[1;32m    202\u001b[0m         body\u001b[39m=\u001b[39;49mpick(kwargs, \u001b[39m\"\u001b[39;49m\u001b[39mparent\u001b[39;49m\u001b[39m\"\u001b[39;49m, \u001b[39m\"\u001b[39;49m\u001b[39mproperties\u001b[39;49m\u001b[39m\"\u001b[39;49m, \u001b[39m\"\u001b[39;49m\u001b[39mchildren\u001b[39;49m\u001b[39m\"\u001b[39;49m, \u001b[39m\"\u001b[39;49m\u001b[39micon\u001b[39;49m\u001b[39m\"\u001b[39;49m, \u001b[39m\"\u001b[39;49m\u001b[39mcover\u001b[39;49m\u001b[39m\"\u001b[39;49m),\n\u001b[1;32m    203\u001b[0m         auth\u001b[39m=\u001b[39;49mkwargs\u001b[39m.\u001b[39;49mget(\u001b[39m\"\u001b[39;49m\u001b[39mauth\u001b[39;49m\u001b[39m\"\u001b[39;49m),\n\u001b[1;32m    204\u001b[0m     )\n",
      "File \u001b[0;32m~/projects/ml/.venv/lib/python3.11/site-packages/notion_client/client.py:194\u001b[0m, in \u001b[0;36mClient.request\u001b[0;34m(self, path, method, query, body, auth)\u001b[0m\n\u001b[1;32m    192\u001b[0m \u001b[39mexcept\u001b[39;00m httpx\u001b[39m.\u001b[39mTimeoutException:\n\u001b[1;32m    193\u001b[0m     \u001b[39mraise\u001b[39;00m RequestTimeoutError()\n\u001b[0;32m--> 194\u001b[0m \u001b[39mreturn\u001b[39;00m \u001b[39mself\u001b[39;49m\u001b[39m.\u001b[39;49m_parse_response(response)\n",
      "File \u001b[0;32m~/projects/ml/.venv/lib/python3.11/site-packages/notion_client/client.py:127\u001b[0m, in \u001b[0;36mBaseClient._parse_response\u001b[0;34m(self, response)\u001b[0m\n\u001b[1;32m    125\u001b[0m     \u001b[39mif\u001b[39;00m code \u001b[39mand\u001b[39;00m is_api_error_code(code):\n\u001b[1;32m    126\u001b[0m         \u001b[39mraise\u001b[39;00m APIResponseError(response, body[\u001b[39m\"\u001b[39m\u001b[39mmessage\u001b[39m\u001b[39m\"\u001b[39m], code)\n\u001b[0;32m--> 127\u001b[0m     \u001b[39mraise\u001b[39;00m HTTPResponseError(error\u001b[39m.\u001b[39mresponse)\n\u001b[1;32m    129\u001b[0m body \u001b[39m=\u001b[39m response\u001b[39m.\u001b[39mjson()\n\u001b[1;32m    130\u001b[0m \u001b[39mself\u001b[39m\u001b[39m.\u001b[39mlogger\u001b[39m.\u001b[39mdebug(\u001b[39mf\u001b[39m\u001b[39m\"\u001b[39m\u001b[39m=> \u001b[39m\u001b[39m{\u001b[39;00mbody\u001b[39m}\u001b[39;00m\u001b[39m\"\u001b[39m)\n",
      "\u001b[0;31mHTTPResponseError\u001b[0m: Request to Notion API failed with status: 413"
     ]
    }
   ],
   "source": [
    "# Specify the Notion database ID\n",
    "notion_database_id = \"f9092012fd8345c68ee7da1f61fe8cd0\"\n",
    "\n",
    "# Split the table content into smaller chunks (adjust chunk_size as needed)\n",
    "chunk_size = 1\n",
    "table_chunks = [\n",
    "    table_markdown[i : i + chunk_size]\n",
    "    for i in range(0, len(table_markdown), chunk_size)\n",
    "]\n",
    "\n",
    "# Create a new page in the Notion database\n",
    "new_page = notion.pages.create(\n",
    "    parent={\"database_id\": notion_database_id},\n",
    "    properties={\n",
    "        \"title\": [{\"text\": {\"content\": \"LeetCode Solutions\"}}],\n",
    "        \"content\": [{\"text\": {\"content\": chunk}} for chunk in table_chunks],\n",
    "    },\n",
    ")\n",
    "\n",
    "# Display a message to confirm the page creation\n",
    "gui.msgbox(\"Page with table content has been added to Notion database\")"
   ]
  }
 ],
 "metadata": {
  "kernelspec": {
   "display_name": "Python 3 (ipykernel)",
   "language": "python",
   "name": "python3"
  },
  "language_info": {
   "codemirror_mode": {
    "name": "ipython",
    "version": 3
   },
   "file_extension": ".py",
   "mimetype": "text/x-python",
   "name": "python",
   "nbconvert_exporter": "python",
   "pygments_lexer": "ipython3",
   "version": "3.11.4"
  },
  "orig_nbformat": 4
 },
 "nbformat": 4,
 "nbformat_minor": 2
}
